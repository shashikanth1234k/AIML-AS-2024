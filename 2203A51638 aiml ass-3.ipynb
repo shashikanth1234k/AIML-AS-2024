{
 "cells": [
  {
   "cell_type": "code",
   "execution_count": 1,
   "metadata": {},
   "outputs": [
    {
     "name": "stdout",
     "output_type": "stream",
     "text": [
      "Shortest cost path from node 0 to node 5: 8\n"
     ]
    }
   ],
   "source": [
    "# Weighted graph represented as an adjacency list\n",
    "graph = {\n",
    "    0: [(1, 2), (2, 4)],\n",
    "    1: [(2, 1), (3, 7)],\n",
    "    2: [(3, 3), (4, 2)],\n",
    "    3: [(4, 5), (5, 6)],\n",
    "    4: [(5, 3)],\n",
    "    5: []\n",
    "}\n",
    "\n",
    "def dijkstra(graph, start, end):\n",
    "    # Initialize distances and visited nodes\n",
    "    distances = {node: float('inf') for node in graph}\n",
    "    distances[start] = 0\n",
    "    visited = set()\n",
    "\n",
    "    while len(visited) < len(graph):\n",
    "        # Find the node with the minimum distance\n",
    "        current_node = min((node for node in graph if node not in visited), key=distances.get)\n",
    "        visited.add(current_node)\n",
    "\n",
    "        # Update distances for neighboring nodes\n",
    "        for neighbor, weight in graph[current_node]:\n",
    "            if distances[current_node] + weight < distances[neighbor]:\n",
    "                distances[neighbor] = distances[current_node] + weight\n",
    "\n",
    "    return distances[end]\n",
    "\n",
    "shortest_path_cost = dijkstra(graph, 0, 5)\n",
    "print(f\"Shortest cost path from node 0 to node 5: {shortest_path_cost}\")"
   ]
  }
 ],
 "metadata": {
  "kernelspec": {
   "display_name": "Python 3",
   "language": "python",
   "name": "python3"
  },
  "language_info": {
   "codemirror_mode": {
    "name": "ipython",
    "version": 3
   },
   "file_extension": ".py",
   "mimetype": "text/x-python",
   "name": "python",
   "nbconvert_exporter": "python",
   "pygments_lexer": "ipython3",
   "version": "3.10.13"
  }
 },
 "nbformat": 4,
 "nbformat_minor": 2
}
